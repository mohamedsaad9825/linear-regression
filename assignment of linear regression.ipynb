{
 "cells": [
  {
   "cell_type": "code",
   "execution_count": 2,
   "metadata": {},
   "outputs": [],
   "source": [
    "import numpy as np\n",
    "import pandas as pd\n",
    "import matplotlib.pyplot as plt\n",
    "import seaborn as sns"
   ]
  },
  {
   "cell_type": "markdown",
   "metadata": {},
   "source": [
    "### fish data"
   ]
  },
  {
   "cell_type": "code",
   "execution_count": 5,
   "metadata": {},
   "outputs": [],
   "source": [
    "df=pd.read_csv('E:\\Machinfy\\secion 13/fish.csv',sep=',',encoding='utf-8')"
   ]
  },
  {
   "cell_type": "code",
   "execution_count": 6,
   "metadata": {},
   "outputs": [
    {
     "data": {
      "text/html": [
       "<div>\n",
       "<style scoped>\n",
       "    .dataframe tbody tr th:only-of-type {\n",
       "        vertical-align: middle;\n",
       "    }\n",
       "\n",
       "    .dataframe tbody tr th {\n",
       "        vertical-align: top;\n",
       "    }\n",
       "\n",
       "    .dataframe thead th {\n",
       "        text-align: right;\n",
       "    }\n",
       "</style>\n",
       "<table border=\"1\" class=\"dataframe\">\n",
       "  <thead>\n",
       "    <tr style=\"text-align: right;\">\n",
       "      <th></th>\n",
       "      <th>Species</th>\n",
       "      <th>Weight</th>\n",
       "      <th>Length1</th>\n",
       "      <th>Length2</th>\n",
       "      <th>Length3</th>\n",
       "      <th>Height</th>\n",
       "      <th>Width</th>\n",
       "    </tr>\n",
       "  </thead>\n",
       "  <tbody>\n",
       "    <tr>\n",
       "      <td>0</td>\n",
       "      <td>Bream</td>\n",
       "      <td>242.0</td>\n",
       "      <td>23.2</td>\n",
       "      <td>25.4</td>\n",
       "      <td>30.0</td>\n",
       "      <td>11.5200</td>\n",
       "      <td>4.0200</td>\n",
       "    </tr>\n",
       "    <tr>\n",
       "      <td>1</td>\n",
       "      <td>Bream</td>\n",
       "      <td>290.0</td>\n",
       "      <td>24.0</td>\n",
       "      <td>26.3</td>\n",
       "      <td>31.2</td>\n",
       "      <td>12.4800</td>\n",
       "      <td>4.3056</td>\n",
       "    </tr>\n",
       "    <tr>\n",
       "      <td>2</td>\n",
       "      <td>Bream</td>\n",
       "      <td>340.0</td>\n",
       "      <td>23.9</td>\n",
       "      <td>26.5</td>\n",
       "      <td>31.1</td>\n",
       "      <td>12.3778</td>\n",
       "      <td>4.6961</td>\n",
       "    </tr>\n",
       "    <tr>\n",
       "      <td>3</td>\n",
       "      <td>Bream</td>\n",
       "      <td>363.0</td>\n",
       "      <td>26.3</td>\n",
       "      <td>29.0</td>\n",
       "      <td>33.5</td>\n",
       "      <td>12.7300</td>\n",
       "      <td>4.4555</td>\n",
       "    </tr>\n",
       "    <tr>\n",
       "      <td>4</td>\n",
       "      <td>Bream</td>\n",
       "      <td>430.0</td>\n",
       "      <td>26.5</td>\n",
       "      <td>29.0</td>\n",
       "      <td>34.0</td>\n",
       "      <td>12.4440</td>\n",
       "      <td>5.1340</td>\n",
       "    </tr>\n",
       "  </tbody>\n",
       "</table>\n",
       "</div>"
      ],
      "text/plain": [
       "  Species  Weight  Length1  Length2  Length3   Height   Width\n",
       "0   Bream   242.0     23.2     25.4     30.0  11.5200  4.0200\n",
       "1   Bream   290.0     24.0     26.3     31.2  12.4800  4.3056\n",
       "2   Bream   340.0     23.9     26.5     31.1  12.3778  4.6961\n",
       "3   Bream   363.0     26.3     29.0     33.5  12.7300  4.4555\n",
       "4   Bream   430.0     26.5     29.0     34.0  12.4440  5.1340"
      ]
     },
     "execution_count": 6,
     "metadata": {},
     "output_type": "execute_result"
    }
   ],
   "source": [
    "df.head()"
   ]
  },
  {
   "cell_type": "code",
   "execution_count": 7,
   "metadata": {},
   "outputs": [
    {
     "name": "stdout",
     "output_type": "stream",
     "text": [
      "<class 'pandas.core.frame.DataFrame'>\n",
      "RangeIndex: 159 entries, 0 to 158\n",
      "Data columns (total 7 columns):\n",
      "Species    159 non-null object\n",
      "Weight     159 non-null float64\n",
      "Length1    159 non-null float64\n",
      "Length2    159 non-null float64\n",
      "Length3    159 non-null float64\n",
      "Height     159 non-null float64\n",
      "Width      159 non-null float64\n",
      "dtypes: float64(6), object(1)\n",
      "memory usage: 8.8+ KB\n"
     ]
    }
   ],
   "source": [
    "df.info()"
   ]
  },
  {
   "cell_type": "code",
   "execution_count": 8,
   "metadata": {},
   "outputs": [
    {
     "data": {
      "text/plain": [
       "(array([20., 12., 27., 11., 10., 10.,  4.,  4.,  4.,  9.,  5.,  4., 10.,\n",
       "         2.,  4.,  3.,  4.,  4.,  6.,  0.,  2.,  0.,  1.,  0.,  0.,  0.,\n",
       "         0.,  0.,  1.,  2.]),\n",
       " array([   0.,   55.,  110.,  165.,  220.,  275.,  330.,  385.,  440.,\n",
       "         495.,  550.,  605.,  660.,  715.,  770.,  825.,  880.,  935.,\n",
       "         990., 1045., 1100., 1155., 1210., 1265., 1320., 1375., 1430.,\n",
       "        1485., 1540., 1595., 1650.]),\n",
       " <a list of 30 Patch objects>)"
      ]
     },
     "execution_count": 8,
     "metadata": {},
     "output_type": "execute_result"
    },
    {
     "data": {
      "image/png": "[encoded data removed]",
      "text/plain": [
       "<Figure size 720x720 with 1 Axes>"
      ]
     },
     "metadata": {
      "needs_background": "light"
     },
     "output_type": "display_data"
    }
   ],
   "source": [
    "#check continuous data for target\n",
    "plt.figure(figsize=(10,10))\n",
    "plt.hist(x=df['Weight'],bins=30)"
   ]
  },
  {
   "cell_type": "code",
   "execution_count": 9,
   "metadata": {},
   "outputs": [
    {
     "data": {
      "text/plain": [
       "<matplotlib.axes._subplots.AxesSubplot at 0x2084094f5c8>"
      ]
     },
     "execution_count": 9,
     "metadata": {},
     "output_type": "execute_result"
    },
    {
     "data": {
      "image/png": "[encoded data removed]",
      "text/plain": [
       "<Figure size 432x288 with 1 Axes>"
      ]
     },
     "metadata": {
      "needs_background": "light"
     },
     "output_type": "display_data"
    }
   ],
   "source": [
    "sns.boxplot(y=df['Weight'])"
   ]
  },
  {
   "cell_type": "code",
   "execution_count": 10,
   "metadata": {},
   "outputs": [
    {
     "data": {
      "text/plain": [
       "count     159.000000\n",
       "mean      398.326415\n",
       "std       357.978317\n",
       "min         0.000000\n",
       "25%       120.000000\n",
       "50%       273.000000\n",
       "75%       650.000000\n",
       "max      1650.000000\n",
       "Name: Weight, dtype: float64"
      ]
     },
     "execution_count": 10,
     "metadata": {},
     "output_type": "execute_result"
    }
   ],
   "source": [
    "df['Weight'].describe()"
   ]
  },
  {
   "cell_type": "code",
   "execution_count": 32,
   "metadata": {},
   "outputs": [
    {
     "data": {
      "text/html": [
       "<div>\n",
       "<style scoped>\n",
       "    .dataframe tbody tr th:only-of-type {\n",
       "        vertical-align: middle;\n",
       "    }\n",
       "\n",
       "    .dataframe tbody tr th {\n",
       "        vertical-align: top;\n",
       "    }\n",
       "\n",
       "    .dataframe thead th {\n",
       "        text-align: right;\n",
       "    }\n",
       "</style>\n",
       "<table border=\"1\" class=\"dataframe\">\n",
       "  <thead>\n",
       "    <tr style=\"text-align: right;\">\n",
       "      <th></th>\n",
       "      <th>Species</th>\n",
       "      <th>Weight</th>\n",
       "      <th>Length1</th>\n",
       "      <th>Length2</th>\n",
       "      <th>Length3</th>\n",
       "      <th>Height</th>\n",
       "      <th>Width</th>\n",
       "    </tr>\n",
       "  </thead>\n",
       "  <tbody>\n",
       "    <tr>\n",
       "      <td>142</td>\n",
       "      <td>Pike</td>\n",
       "      <td>1600.0</td>\n",
       "      <td>56.0</td>\n",
       "      <td>60.0</td>\n",
       "      <td>64.0</td>\n",
       "      <td>9.600</td>\n",
       "      <td>6.144</td>\n",
       "    </tr>\n",
       "    <tr>\n",
       "      <td>143</td>\n",
       "      <td>Pike</td>\n",
       "      <td>1550.0</td>\n",
       "      <td>56.0</td>\n",
       "      <td>60.0</td>\n",
       "      <td>64.0</td>\n",
       "      <td>9.600</td>\n",
       "      <td>6.144</td>\n",
       "    </tr>\n",
       "    <tr>\n",
       "      <td>144</td>\n",
       "      <td>Pike</td>\n",
       "      <td>1650.0</td>\n",
       "      <td>59.0</td>\n",
       "      <td>63.4</td>\n",
       "      <td>68.0</td>\n",
       "      <td>10.812</td>\n",
       "      <td>7.480</td>\n",
       "    </tr>\n",
       "  </tbody>\n",
       "</table>\n",
       "</div>"
      ],
      "text/plain": [
       "    Species  Weight  Length1  Length2  Length3  Height  Width\n",
       "142    Pike  1600.0     56.0     60.0     64.0   9.600  6.144\n",
       "143    Pike  1550.0     56.0     60.0     64.0   9.600  6.144\n",
       "144    Pike  1650.0     59.0     63.4     68.0  10.812  7.480"
      ]
     },
     "execution_count": 32,
     "metadata": {},
     "output_type": "execute_result"
    }
   ],
   "source": [
    "df[df['Weight']>1250]"
   ]
  },
  {
   "cell_type": "code",
   "execution_count": 31,
   "metadata": {},
   "outputs": [
    {
     "data": {
      "text/html": [
       "<div>\n",
       "<style scoped>\n",
       "    .dataframe tbody tr th:only-of-type {\n",
       "        vertical-align: middle;\n",
       "    }\n",
       "\n",
       "    .dataframe tbody tr th {\n",
       "        vertical-align: top;\n",
       "    }\n",
       "\n",
       "    .dataframe thead th {\n",
       "        text-align: right;\n",
       "    }\n",
       "</style>\n",
       "<table border=\"1\" class=\"dataframe\">\n",
       "  <thead>\n",
       "    <tr style=\"text-align: right;\">\n",
       "      <th></th>\n",
       "      <th>Species</th>\n",
       "      <th>Weight</th>\n",
       "      <th>Length1</th>\n",
       "      <th>Length2</th>\n",
       "      <th>Length3</th>\n",
       "      <th>Height</th>\n",
       "      <th>Width</th>\n",
       "    </tr>\n",
       "  </thead>\n",
       "  <tbody>\n",
       "    <tr>\n",
       "      <td>0</td>\n",
       "      <td>Bream</td>\n",
       "      <td>242.0</td>\n",
       "      <td>23.2</td>\n",
       "      <td>25.4</td>\n",
       "      <td>30.0</td>\n",
       "      <td>11.5200</td>\n",
       "      <td>4.0200</td>\n",
       "    </tr>\n",
       "    <tr>\n",
       "      <td>1</td>\n",
       "      <td>Bream</td>\n",
       "      <td>290.0</td>\n",
       "      <td>24.0</td>\n",
       "      <td>26.3</td>\n",
       "      <td>31.2</td>\n",
       "      <td>12.4800</td>\n",
       "      <td>4.3056</td>\n",
       "    </tr>\n",
       "    <tr>\n",
       "      <td>2</td>\n",
       "      <td>Bream</td>\n",
       "      <td>340.0</td>\n",
       "      <td>23.9</td>\n",
       "      <td>26.5</td>\n",
       "      <td>31.1</td>\n",
       "      <td>12.3778</td>\n",
       "      <td>4.6961</td>\n",
       "    </tr>\n",
       "    <tr>\n",
       "      <td>3</td>\n",
       "      <td>Bream</td>\n",
       "      <td>363.0</td>\n",
       "      <td>26.3</td>\n",
       "      <td>29.0</td>\n",
       "      <td>33.5</td>\n",
       "      <td>12.7300</td>\n",
       "      <td>4.4555</td>\n",
       "    </tr>\n",
       "    <tr>\n",
       "      <td>4</td>\n",
       "      <td>Bream</td>\n",
       "      <td>430.0</td>\n",
       "      <td>26.5</td>\n",
       "      <td>29.0</td>\n",
       "      <td>34.0</td>\n",
       "      <td>12.4440</td>\n",
       "      <td>5.1340</td>\n",
       "    </tr>\n",
       "    <tr>\n",
       "      <td>...</td>\n",
       "      <td>...</td>\n",
       "      <td>...</td>\n",
       "      <td>...</td>\n",
       "      <td>...</td>\n",
       "      <td>...</td>\n",
       "      <td>...</td>\n",
       "      <td>...</td>\n",
       "    </tr>\n",
       "    <tr>\n",
       "      <td>154</td>\n",
       "      <td>Smelt</td>\n",
       "      <td>12.2</td>\n",
       "      <td>11.5</td>\n",
       "      <td>12.2</td>\n",
       "      <td>13.4</td>\n",
       "      <td>2.0904</td>\n",
       "      <td>1.3936</td>\n",
       "    </tr>\n",
       "    <tr>\n",
       "      <td>155</td>\n",
       "      <td>Smelt</td>\n",
       "      <td>13.4</td>\n",
       "      <td>11.7</td>\n",
       "      <td>12.4</td>\n",
       "      <td>13.5</td>\n",
       "      <td>2.4300</td>\n",
       "      <td>1.2690</td>\n",
       "    </tr>\n",
       "    <tr>\n",
       "      <td>156</td>\n",
       "      <td>Smelt</td>\n",
       "      <td>12.2</td>\n",
       "      <td>12.1</td>\n",
       "      <td>13.0</td>\n",
       "      <td>13.8</td>\n",
       "      <td>2.2770</td>\n",
       "      <td>1.2558</td>\n",
       "    </tr>\n",
       "    <tr>\n",
       "      <td>157</td>\n",
       "      <td>Smelt</td>\n",
       "      <td>19.7</td>\n",
       "      <td>13.2</td>\n",
       "      <td>14.3</td>\n",
       "      <td>15.2</td>\n",
       "      <td>2.8728</td>\n",
       "      <td>2.0672</td>\n",
       "    </tr>\n",
       "    <tr>\n",
       "      <td>158</td>\n",
       "      <td>Smelt</td>\n",
       "      <td>19.9</td>\n",
       "      <td>13.8</td>\n",
       "      <td>15.0</td>\n",
       "      <td>16.2</td>\n",
       "      <td>2.9322</td>\n",
       "      <td>1.8792</td>\n",
       "    </tr>\n",
       "  </tbody>\n",
       "</table>\n",
       "<p>156 rows × 7 columns</p>\n",
       "</div>"
      ],
      "text/plain": [
       "    Species  Weight  Length1  Length2  Length3   Height   Width\n",
       "0     Bream   242.0     23.2     25.4     30.0  11.5200  4.0200\n",
       "1     Bream   290.0     24.0     26.3     31.2  12.4800  4.3056\n",
       "2     Bream   340.0     23.9     26.5     31.1  12.3778  4.6961\n",
       "3     Bream   363.0     26.3     29.0     33.5  12.7300  4.4555\n",
       "4     Bream   430.0     26.5     29.0     34.0  12.4440  5.1340\n",
       "..      ...     ...      ...      ...      ...      ...     ...\n",
       "154   Smelt    12.2     11.5     12.2     13.4   2.0904  1.3936\n",
       "155   Smelt    13.4     11.7     12.4     13.5   2.4300  1.2690\n",
       "156   Smelt    12.2     12.1     13.0     13.8   2.2770  1.2558\n",
       "157   Smelt    19.7     13.2     14.3     15.2   2.8728  2.0672\n",
       "158   Smelt    19.9     13.8     15.0     16.2   2.9322  1.8792\n",
       "\n",
       "[156 rows x 7 columns]"
      ]
     },
     "execution_count": 31,
     "metadata": {},
     "output_type": "execute_result"
    }
   ],
   "source": [
    "df[df['Weight']<=1250]"
   ]
  },
  {
   "cell_type": "code",
   "execution_count": 15,
   "metadata": {},
   "outputs": [
    {
     "data": {
      "text/plain": [
       "Perch        56\n",
       "Bream        35\n",
       "Roach        20\n",
       "Pike         17\n",
       "Smelt        14\n",
       "Parkki       11\n",
       "Whitefish     6\n",
       "Name: Species, dtype: int64"
      ]
     },
     "execution_count": 15,
     "metadata": {},
     "output_type": "execute_result"
    }
   ],
   "source": [
    "df['Species'].value_counts()"
   ]
  },
  {
   "cell_type": "code",
   "execution_count": 33,
   "metadata": {},
   "outputs": [],
   "source": [
    "df1=df[df['Weight']<=1250]"
   ]
  },
  {
   "cell_type": "code",
   "execution_count": 35,
   "metadata": {},
   "outputs": [
    {
     "name": "stdout",
     "output_type": "stream",
     "text": [
      "<class 'pandas.core.frame.DataFrame'>\n",
      "Int64Index: 156 entries, 0 to 158\n",
      "Data columns (total 7 columns):\n",
      "Species    156 non-null object\n",
      "Weight     156 non-null float64\n",
      "Length1    156 non-null float64\n",
      "Length2    156 non-null float64\n",
      "Length3    156 non-null float64\n",
      "Height     156 non-null float64\n",
      "Width      156 non-null float64\n",
      "dtypes: float64(6), object(1)\n",
      "memory usage: 9.8+ KB\n"
     ]
    }
   ],
   "source": [
    "df1.info()"
   ]
  },
  {
   "cell_type": "code",
   "execution_count": 40,
   "metadata": {},
   "outputs": [
    {
     "data": {
      "text/plain": [
       "(array([19.,  8., 14., 18., 10.,  3., 10.,  8.,  4.,  2.,  5.,  1.,  9.,\n",
       "         3.,  4.,  2.,  9.,  3.,  1.,  3.,  3.,  2.,  5.,  1.,  6.,  0.,\n",
       "         2.,  0.,  0.,  1.]),\n",
       " array([   0.        ,   41.66666667,   83.33333333,  125.        ,\n",
       "         166.66666667,  208.33333333,  250.        ,  291.66666667,\n",
       "         333.33333333,  375.        ,  416.66666667,  458.33333333,\n",
       "         500.        ,  541.66666667,  583.33333333,  625.        ,\n",
       "         666.66666667,  708.33333333,  750.        ,  791.66666667,\n",
       "         833.33333333,  875.        ,  916.66666667,  958.33333333,\n",
       "        1000.        , 1041.66666667, 1083.33333333, 1125.        ,\n",
       "        1166.66666667, 1208.33333333, 1250.        ]),\n",
       " <a list of 30 Patch objects>)"
      ]
     },
     "execution_count": 40,
     "metadata": {},
     "output_type": "execute_result"
    },
    {
     "data": {
      "image/png": "[encoded data removed]",
      "text/plain": [
       "<Figure size 720x720 with 1 Axes>"
      ]
     },
     "metadata": {
      "needs_background": "light"
     },
     "output_type": "display_data"
    }
   ],
   "source": [
    "#check continuous data for target\n",
    "plt.figure(figsize=(10,10))\n",
    "plt.hist(x=df1['Weight'],bins=30)"
   ]
  },
  {
   "cell_type": "code",
   "execution_count": 36,
   "metadata": {},
   "outputs": [
    {
     "data": {
      "text/plain": [
       "<matplotlib.axes._subplots.AxesSubplot at 0x2083f8c63c8>"
      ]
     },
     "execution_count": 36,
     "metadata": {},
     "output_type": "execute_result"
    },
    {
     "data": {
      "image/png": "[encoded data removed]",
      "text/plain": [
       "<Figure size 432x288 with 1 Axes>"
      ]
     },
     "metadata": {
      "needs_background": "light"
     },
     "output_type": "display_data"
    }
   ],
   "source": [
    "sns.boxplot(y=df1['Weight'])"
   ]
  },
  {
   "cell_type": "code",
   "execution_count": 38,
   "metadata": {},
   "outputs": [
    {
     "data": {
      "text/plain": [
       "Perch        56\n",
       "Bream        35\n",
       "Roach        20\n",
       "Smelt        14\n",
       "Pike         14\n",
       "Parkki       11\n",
       "Whitefish     6\n",
       "Name: Species, dtype: int64"
      ]
     },
     "execution_count": 38,
     "metadata": {},
     "output_type": "execute_result"
    }
   ],
   "source": [
    "df1['Species'].value_counts()"
   ]
  },
  {
   "cell_type": "code",
   "execution_count": 39,
   "metadata": {},
   "outputs": [],
   "source": [
    "from sklearn.preprocessing import LabelEncoder"
   ]
  },
  {
   "cell_type": "code",
   "execution_count": 41,
   "metadata": {},
   "outputs": [],
   "source": [
    "lb=LabelEncoder()"
   ]
  },
  {
   "cell_type": "code",
   "execution_count": 42,
   "metadata": {},
   "outputs": [
    {
     "name": "stderr",
     "output_type": "stream",
     "text": [
      "C:\\ProgramData\\Anaconda3\\lib\\site-packages\\ipykernel_launcher.py:1: SettingWithCopyWarning: \n",
      "A value is trying to be set on a copy of a slice from a DataFrame.\n",
      "Try using .loc[row_indexer,col_indexer] = value instead\n",
      "\n",
      "See the caveats in the documentation: http://pandas.pydata.org/pandas-docs/stable/user_guide/indexing.html#returning-a-view-versus-a-copy\n",
      "  \"\"\"Entry point for launching an IPython kernel.\n"
     ]
    }
   ],
   "source": [
    "df1['Species']=lb.fit_transform(df1['Species'])"
   ]
  },
  {
   "cell_type": "code",
   "execution_count": 43,
   "metadata": {},
   "outputs": [
    {
     "data": {
      "text/plain": [
       "2    56\n",
       "0    35\n",
       "4    20\n",
       "5    14\n",
       "3    14\n",
       "1    11\n",
       "6     6\n",
       "Name: Species, dtype: int64"
      ]
     },
     "execution_count": 43,
     "metadata": {},
     "output_type": "execute_result"
    }
   ],
   "source": [
    "df1['Species'].value_counts()"
   ]
  },
  {
   "cell_type": "code",
   "execution_count": 44,
   "metadata": {},
   "outputs": [
    {
     "name": "stdout",
     "output_type": "stream",
     "text": [
      "<class 'pandas.core.frame.DataFrame'>\n",
      "Int64Index: 156 entries, 0 to 158\n",
      "Data columns (total 7 columns):\n",
      "Species    156 non-null int32\n",
      "Weight     156 non-null float64\n",
      "Length1    156 non-null float64\n",
      "Length2    156 non-null float64\n",
      "Length3    156 non-null float64\n",
      "Height     156 non-null float64\n",
      "Width      156 non-null float64\n",
      "dtypes: float64(6), int32(1)\n",
      "memory usage: 9.1 KB\n"
     ]
    }
   ],
   "source": [
    "df1.info()"
   ]
  },
  {
   "cell_type": "code",
   "execution_count": 45,
   "metadata": {},
   "outputs": [
    {
     "data": {
      "text/html": [
       "<div>\n",
       "<style scoped>\n",
       "    .dataframe tbody tr th:only-of-type {\n",
       "        vertical-align: middle;\n",
       "    }\n",
       "\n",
       "    .dataframe tbody tr th {\n",
       "        vertical-align: top;\n",
       "    }\n",
       "\n",
       "    .dataframe thead th {\n",
       "        text-align: right;\n",
       "    }\n",
       "</style>\n",
       "<table border=\"1\" class=\"dataframe\">\n",
       "  <thead>\n",
       "    <tr style=\"text-align: right;\">\n",
       "      <th></th>\n",
       "      <th>Species</th>\n",
       "      <th>Weight</th>\n",
       "      <th>Length1</th>\n",
       "      <th>Length2</th>\n",
       "      <th>Length3</th>\n",
       "      <th>Height</th>\n",
       "      <th>Width</th>\n",
       "    </tr>\n",
       "  </thead>\n",
       "  <tbody>\n",
       "    <tr>\n",
       "      <td>0</td>\n",
       "      <td>0</td>\n",
       "      <td>242.0</td>\n",
       "      <td>23.2</td>\n",
       "      <td>25.4</td>\n",
       "      <td>30.0</td>\n",
       "      <td>11.5200</td>\n",
       "      <td>4.0200</td>\n",
       "    </tr>\n",
       "    <tr>\n",
       "      <td>1</td>\n",
       "      <td>0</td>\n",
       "      <td>290.0</td>\n",
       "      <td>24.0</td>\n",
       "      <td>26.3</td>\n",
       "      <td>31.2</td>\n",
       "      <td>12.4800</td>\n",
       "      <td>4.3056</td>\n",
       "    </tr>\n",
       "    <tr>\n",
       "      <td>2</td>\n",
       "      <td>0</td>\n",
       "      <td>340.0</td>\n",
       "      <td>23.9</td>\n",
       "      <td>26.5</td>\n",
       "      <td>31.1</td>\n",
       "      <td>12.3778</td>\n",
       "      <td>4.6961</td>\n",
       "    </tr>\n",
       "    <tr>\n",
       "      <td>3</td>\n",
       "      <td>0</td>\n",
       "      <td>363.0</td>\n",
       "      <td>26.3</td>\n",
       "      <td>29.0</td>\n",
       "      <td>33.5</td>\n",
       "      <td>12.7300</td>\n",
       "      <td>4.4555</td>\n",
       "    </tr>\n",
       "    <tr>\n",
       "      <td>4</td>\n",
       "      <td>0</td>\n",
       "      <td>430.0</td>\n",
       "      <td>26.5</td>\n",
       "      <td>29.0</td>\n",
       "      <td>34.0</td>\n",
       "      <td>12.4440</td>\n",
       "      <td>5.1340</td>\n",
       "    </tr>\n",
       "  </tbody>\n",
       "</table>\n",
       "</div>"
      ],
      "text/plain": [
       "   Species  Weight  Length1  Length2  Length3   Height   Width\n",
       "0        0   242.0     23.2     25.4     30.0  11.5200  4.0200\n",
       "1        0   290.0     24.0     26.3     31.2  12.4800  4.3056\n",
       "2        0   340.0     23.9     26.5     31.1  12.3778  4.6961\n",
       "3        0   363.0     26.3     29.0     33.5  12.7300  4.4555\n",
       "4        0   430.0     26.5     29.0     34.0  12.4440  5.1340"
      ]
     },
     "execution_count": 45,
     "metadata": {},
     "output_type": "execute_result"
    }
   ],
   "source": [
    "df1.head()"
   ]
  },
  {
   "cell_type": "code",
   "execution_count": 46,
   "metadata": {},
   "outputs": [
    {
     "data": {
      "text/html": [
       "<div>\n",
       "<style scoped>\n",
       "    .dataframe tbody tr th:only-of-type {\n",
       "        vertical-align: middle;\n",
       "    }\n",
       "\n",
       "    .dataframe tbody tr th {\n",
       "        vertical-align: top;\n",
       "    }\n",
       "\n",
       "    .dataframe thead th {\n",
       "        text-align: right;\n",
       "    }\n",
       "</style>\n",
       "<table border=\"1\" class=\"dataframe\">\n",
       "  <thead>\n",
       "    <tr style=\"text-align: right;\">\n",
       "      <th></th>\n",
       "      <th>Species</th>\n",
       "      <th>Weight</th>\n",
       "      <th>Length1</th>\n",
       "      <th>Length2</th>\n",
       "      <th>Length3</th>\n",
       "      <th>Height</th>\n",
       "      <th>Width</th>\n",
       "    </tr>\n",
       "  </thead>\n",
       "  <tbody>\n",
       "    <tr>\n",
       "      <td>count</td>\n",
       "      <td>156.000000</td>\n",
       "      <td>156.000000</td>\n",
       "      <td>156.000000</td>\n",
       "      <td>156.000000</td>\n",
       "      <td>156.000000</td>\n",
       "      <td>156.000000</td>\n",
       "      <td>156.000000</td>\n",
       "    </tr>\n",
       "    <tr>\n",
       "      <td>mean</td>\n",
       "      <td>2.250000</td>\n",
       "      <td>375.217308</td>\n",
       "      <td>25.655769</td>\n",
       "      <td>27.786538</td>\n",
       "      <td>30.571154</td>\n",
       "      <td>8.951128</td>\n",
       "      <td>4.375719</td>\n",
       "    </tr>\n",
       "    <tr>\n",
       "      <td>std</td>\n",
       "      <td>1.717556</td>\n",
       "      <td>319.546978</td>\n",
       "      <td>9.119630</td>\n",
       "      <td>9.792651</td>\n",
       "      <td>10.695359</td>\n",
       "      <td>4.324325</td>\n",
       "      <td>1.672188</td>\n",
       "    </tr>\n",
       "    <tr>\n",
       "      <td>min</td>\n",
       "      <td>0.000000</td>\n",
       "      <td>0.000000</td>\n",
       "      <td>7.500000</td>\n",
       "      <td>8.400000</td>\n",
       "      <td>8.800000</td>\n",
       "      <td>1.728400</td>\n",
       "      <td>1.047600</td>\n",
       "    </tr>\n",
       "    <tr>\n",
       "      <td>25%</td>\n",
       "      <td>1.000000</td>\n",
       "      <td>120.000000</td>\n",
       "      <td>19.000000</td>\n",
       "      <td>21.000000</td>\n",
       "      <td>23.025000</td>\n",
       "      <td>5.931675</td>\n",
       "      <td>3.369600</td>\n",
       "    </tr>\n",
       "    <tr>\n",
       "      <td>50%</td>\n",
       "      <td>2.000000</td>\n",
       "      <td>271.000000</td>\n",
       "      <td>25.000000</td>\n",
       "      <td>26.750000</td>\n",
       "      <td>29.250000</td>\n",
       "      <td>7.647800</td>\n",
       "      <td>4.243300</td>\n",
       "    </tr>\n",
       "    <tr>\n",
       "      <td>75%</td>\n",
       "      <td>4.000000</td>\n",
       "      <td>612.500000</td>\n",
       "      <td>32.125000</td>\n",
       "      <td>35.000000</td>\n",
       "      <td>39.425000</td>\n",
       "      <td>12.378550</td>\n",
       "      <td>5.424375</td>\n",
       "    </tr>\n",
       "    <tr>\n",
       "      <td>max</td>\n",
       "      <td>6.000000</td>\n",
       "      <td>1250.000000</td>\n",
       "      <td>52.000000</td>\n",
       "      <td>56.000000</td>\n",
       "      <td>59.700000</td>\n",
       "      <td>18.957000</td>\n",
       "      <td>8.142000</td>\n",
       "    </tr>\n",
       "  </tbody>\n",
       "</table>\n",
       "</div>"
      ],
      "text/plain": [
       "          Species       Weight     Length1     Length2     Length3  \\\n",
       "count  156.000000   156.000000  156.000000  156.000000  156.000000   \n",
       "mean     2.250000   375.217308   25.655769   27.786538   30.571154   \n",
       "std      1.717556   319.546978    9.119630    9.792651   10.695359   \n",
       "min      0.000000     0.000000    7.500000    8.400000    8.800000   \n",
       "25%      1.000000   120.000000   19.000000   21.000000   23.025000   \n",
       "50%      2.000000   271.000000   25.000000   26.750000   29.250000   \n",
       "75%      4.000000   612.500000   32.125000   35.000000   39.425000   \n",
       "max      6.000000  1250.000000   52.000000   56.000000   59.700000   \n",
       "\n",
       "           Height       Width  \n",
       "count  156.000000  156.000000  \n",
       "mean     8.951128    4.375719  \n",
       "std      4.324325    1.672188  \n",
       "min      1.728400    1.047600  \n",
       "25%      5.931675    3.369600  \n",
       "50%      7.647800    4.243300  \n",
       "75%     12.378550    5.424375  \n",
       "max     18.957000    8.142000  "
      ]
     },
     "execution_count": 46,
     "metadata": {},
     "output_type": "execute_result"
    }
   ],
   "source": [
    "df1.describe()"
   ]
  },
  {
   "cell_type": "code",
   "execution_count": 47,
   "metadata": {},
   "outputs": [
    {
     "data": {
      "text/html": [
       "<div>\n",
       "<style scoped>\n",
       "    .dataframe tbody tr th:only-of-type {\n",
       "        vertical-align: middle;\n",
       "    }\n",
       "\n",
       "    .dataframe tbody tr th {\n",
       "        vertical-align: top;\n",
       "    }\n",
       "\n",
       "    .dataframe thead th {\n",
       "        text-align: right;\n",
       "    }\n",
       "</style>\n",
       "<table border=\"1\" class=\"dataframe\">\n",
       "  <thead>\n",
       "    <tr style=\"text-align: right;\">\n",
       "      <th></th>\n",
       "      <th>Species</th>\n",
       "      <th>Weight</th>\n",
       "      <th>Length1</th>\n",
       "      <th>Length2</th>\n",
       "      <th>Length3</th>\n",
       "      <th>Height</th>\n",
       "      <th>Width</th>\n",
       "    </tr>\n",
       "  </thead>\n",
       "  <tbody>\n",
       "    <tr>\n",
       "      <td>Species</td>\n",
       "      <td>1.000000</td>\n",
       "      <td>-0.386398</td>\n",
       "      <td>-0.324187</td>\n",
       "      <td>-0.342145</td>\n",
       "      <td>-0.395344</td>\n",
       "      <td>-0.701987</td>\n",
       "      <td>-0.416384</td>\n",
       "    </tr>\n",
       "    <tr>\n",
       "      <td>Weight</td>\n",
       "      <td>-0.386398</td>\n",
       "      <td>1.000000</td>\n",
       "      <td>0.895743</td>\n",
       "      <td>0.899759</td>\n",
       "      <td>0.907292</td>\n",
       "      <td>0.801871</td>\n",
       "      <td>0.923432</td>\n",
       "    </tr>\n",
       "    <tr>\n",
       "      <td>Length1</td>\n",
       "      <td>-0.324187</td>\n",
       "      <td>0.895743</td>\n",
       "      <td>1.000000</td>\n",
       "      <td>0.999418</td>\n",
       "      <td>0.990612</td>\n",
       "      <td>0.676326</td>\n",
       "      <td>0.889166</td>\n",
       "    </tr>\n",
       "    <tr>\n",
       "      <td>Length2</td>\n",
       "      <td>-0.342145</td>\n",
       "      <td>0.899759</td>\n",
       "      <td>0.999418</td>\n",
       "      <td>1.000000</td>\n",
       "      <td>0.993049</td>\n",
       "      <td>0.691954</td>\n",
       "      <td>0.895584</td>\n",
       "    </tr>\n",
       "    <tr>\n",
       "      <td>Length3</td>\n",
       "      <td>-0.395344</td>\n",
       "      <td>0.907292</td>\n",
       "      <td>0.990612</td>\n",
       "      <td>0.993049</td>\n",
       "      <td>1.000000</td>\n",
       "      <td>0.756019</td>\n",
       "      <td>0.897053</td>\n",
       "    </tr>\n",
       "    <tr>\n",
       "      <td>Height</td>\n",
       "      <td>-0.701987</td>\n",
       "      <td>0.801871</td>\n",
       "      <td>0.676326</td>\n",
       "      <td>0.691954</td>\n",
       "      <td>0.756019</td>\n",
       "      <td>1.000000</td>\n",
       "      <td>0.800542</td>\n",
       "    </tr>\n",
       "    <tr>\n",
       "      <td>Width</td>\n",
       "      <td>-0.416384</td>\n",
       "      <td>0.923432</td>\n",
       "      <td>0.889166</td>\n",
       "      <td>0.895584</td>\n",
       "      <td>0.897053</td>\n",
       "      <td>0.800542</td>\n",
       "      <td>1.000000</td>\n",
       "    </tr>\n",
       "  </tbody>\n",
       "</table>\n",
       "</div>"
      ],
      "text/plain": [
       "          Species    Weight   Length1   Length2   Length3    Height     Width\n",
       "Species  1.000000 -0.386398 -0.324187 -0.342145 -0.395344 -0.701987 -0.416384\n",
       "Weight  -0.386398  1.000000  0.895743  0.899759  0.907292  0.801871  0.923432\n",
       "Length1 -0.324187  0.895743  1.000000  0.999418  0.990612  0.676326  0.889166\n",
       "Length2 -0.342145  0.899759  0.999418  1.000000  0.993049  0.691954  0.895584\n",
       "Length3 -0.395344  0.907292  0.990612  0.993049  1.000000  0.756019  0.897053\n",
       "Height  -0.701987  0.801871  0.676326  0.691954  0.756019  1.000000  0.800542\n",
       "Width   -0.416384  0.923432  0.889166  0.895584  0.897053  0.800542  1.000000"
      ]
     },
     "execution_count": 47,
     "metadata": {},
     "output_type": "execute_result"
    }
   ],
   "source": [
    "df1.corr()"
   ]
  },
  {
   "cell_type": "code",
   "execution_count": 48,
   "metadata": {},
   "outputs": [
    {
     "data": {
      "text/plain": [
       "<matplotlib.axes._subplots.AxesSubplot at 0x208424ba8c8>"
      ]
     },
     "execution_count": 48,
     "metadata": {},
     "output_type": "execute_result"
    },
    {
     "data": {
      "image/png": "[encoded data removed]",
      "text/plain": [
       "<Figure size 720x504 with 2 Axes>"
      ]
     },
     "metadata": {
      "needs_background": "light"
     },
     "output_type": "display_data"
    }
   ],
   "source": [
    "plt.figure(figsize=(10,7))\n",
    "sns.heatmap(df1.corr(),cbar=True,annot=True)"
   ]
  },
  {
   "cell_type": "code",
   "execution_count": 51,
   "metadata": {},
   "outputs": [
    {
     "data": {
      "text/plain": [
       "Index(['Species', 'Weight', 'Length1', 'Length2', 'Length3', 'Height',\n",
       "       'Width'],\n",
       "      dtype='object')"
      ]
     },
     "execution_count": 51,
     "metadata": {},
     "output_type": "execute_result"
    }
   ],
   "source": [
    "df1.columns"
   ]
  },
  {
   "cell_type": "code",
   "execution_count": 76,
   "metadata": {},
   "outputs": [],
   "source": [
    "x=df1[['Species','Length1','Length2','Length3','Height','Width']].values\n",
    "y=df1['Weight'].values"
   ]
  },
  {
   "cell_type": "code",
   "execution_count": 77,
   "metadata": {},
   "outputs": [
    {
     "data": {
      "text/plain": [
       "array([[ 0.    , 23.2   , 25.4   , 30.    , 11.52  ,  4.02  ],\n",
       "       [ 0.    , 24.    , 26.3   , 31.2   , 12.48  ,  4.3056],\n",
       "       [ 0.    , 23.9   , 26.5   , 31.1   , 12.3778,  4.6961],\n",
       "       [ 0.    , 26.3   , 29.    , 33.5   , 12.73  ,  4.4555],\n",
       "       [ 0.    , 26.5   , 29.    , 34.    , 12.444 ,  5.134 ],\n",
       "       [ 0.    , 26.8   , 29.7   , 34.7   , 13.6024,  4.9274],\n",
       "       [ 0.    , 26.8   , 29.7   , 34.5   , 14.1795,  5.2785],\n",
       "       [ 0.    , 27.6   , 30.    , 35.    , 12.67  ,  4.69  ],\n",
       "       [ 0.    , 27.6   , 30.    , 35.1   , 14.0049,  4.8438],\n",
       "       [ 0.    , 28.5   , 30.7   , 36.2   , 14.2266,  4.9594],\n",
       "       [ 0.    , 28.4   , 31.    , 36.2   , 14.2628,  5.1042],\n",
       "       [ 0.    , 28.7   , 31.    , 36.2   , 14.3714,  4.8146],\n",
       "       [ 0.    , 29.1   , 31.5   , 36.4   , 13.7592,  4.368 ],\n",
       "       [ 0.    , 29.5   , 32.    , 37.3   , 13.9129,  5.0728],\n",
       "       [ 0.    , 29.4   , 32.    , 37.2   , 14.9544,  5.1708],\n",
       "       [ 0.    , 29.4   , 32.    , 37.2   , 15.438 ,  5.58  ],\n",
       "       [ 0.    , 30.4   , 33.    , 38.3   , 14.8604,  5.2854],\n",
       "       [ 0.    , 30.4   , 33.    , 38.5   , 14.938 ,  5.1975],\n",
       "       [ 0.    , 30.9   , 33.5   , 38.6   , 15.633 ,  5.1338],\n",
       "       [ 0.    , 31.    , 33.5   , 38.7   , 14.4738,  5.7276],\n",
       "       [ 0.    , 31.3   , 34.    , 39.5   , 15.1285,  5.5695],\n",
       "       [ 0.    , 31.4   , 34.    , 39.2   , 15.9936,  5.3704],\n",
       "       [ 0.    , 31.5   , 34.5   , 39.7   , 15.5227,  5.2801],\n",
       "       [ 0.    , 31.8   , 35.    , 40.6   , 15.4686,  6.1306],\n",
       "       [ 0.    , 31.9   , 35.    , 40.5   , 16.2405,  5.589 ],\n",
       "       [ 0.    , 31.8   , 35.    , 40.9   , 16.36  ,  6.0532],\n",
       "       [ 0.    , 32.    , 35.    , 40.6   , 16.3618,  6.09  ],\n",
       "       [ 0.    , 32.7   , 36.    , 41.5   , 16.517 ,  5.8515],\n",
       "       [ 0.    , 32.8   , 36.    , 41.6   , 16.8896,  6.1984],\n",
       "       [ 0.    , 33.5   , 37.    , 42.6   , 18.957 ,  6.603 ],\n",
       "       [ 0.    , 35.    , 38.5   , 44.1   , 18.0369,  6.3063],\n",
       "       [ 0.    , 35.    , 38.5   , 44.    , 18.084 ,  6.292 ],\n",
       "       [ 0.    , 36.2   , 39.5   , 45.3   , 18.7542,  6.7497],\n",
       "       [ 0.    , 37.4   , 41.    , 45.9   , 18.6354,  6.7473],\n",
       "       [ 0.    , 38.    , 41.    , 46.5   , 17.6235,  6.3705],\n",
       "       [ 4.    , 12.9   , 14.1   , 16.2   ,  4.1472,  2.268 ],\n",
       "       [ 4.    , 16.5   , 18.2   , 20.3   ,  5.2983,  2.8217],\n",
       "       [ 4.    , 17.5   , 18.8   , 21.2   ,  5.5756,  2.9044],\n",
       "       [ 4.    , 18.2   , 19.8   , 22.2   ,  5.6166,  3.1746],\n",
       "       [ 4.    , 18.6   , 20.    , 22.2   ,  6.216 ,  3.5742],\n",
       "       [ 4.    , 19.    , 20.5   , 22.8   ,  6.4752,  3.3516],\n",
       "       [ 4.    , 19.1   , 20.8   , 23.1   ,  6.1677,  3.3957],\n",
       "       [ 4.    , 19.4   , 21.    , 23.7   ,  6.1146,  3.2943],\n",
       "       [ 4.    , 20.4   , 22.    , 24.7   ,  5.8045,  3.7544],\n",
       "       [ 4.    , 20.5   , 22.    , 24.3   ,  6.6339,  3.5478],\n",
       "       [ 4.    , 20.5   , 22.5   , 25.3   ,  7.0334,  3.8203],\n",
       "       [ 4.    , 21.    , 22.5   , 25.    ,  6.55  ,  3.325 ],\n",
       "       [ 4.    , 21.1   , 22.5   , 25.    ,  6.4   ,  3.8   ],\n",
       "       [ 4.    , 22.    , 24.    , 27.2   ,  7.5344,  3.8352],\n",
       "       [ 4.    , 22.    , 23.4   , 26.7   ,  6.9153,  3.6312],\n",
       "       [ 4.    , 22.1   , 23.5   , 26.8   ,  7.3968,  4.1272],\n",
       "       [ 4.    , 23.6   , 25.2   , 27.9   ,  7.0866,  3.906 ],\n",
       "       [ 4.    , 24.    , 26.    , 29.2   ,  8.8768,  4.4968],\n",
       "       [ 4.    , 25.    , 27.    , 30.6   ,  8.568 ,  4.7736],\n",
       "       [ 4.    , 29.5   , 31.7   , 35.    ,  9.485 ,  5.355 ],\n",
       "       [ 6.    , 23.6   , 26.    , 28.7   ,  8.3804,  4.2476],\n",
       "       [ 6.    , 24.1   , 26.5   , 29.3   ,  8.1454,  4.2485],\n",
       "       [ 6.    , 25.6   , 28.    , 30.8   ,  8.778 ,  4.6816],\n",
       "       [ 6.    , 28.5   , 31.    , 34.    , 10.744 ,  6.562 ],\n",
       "       [ 6.    , 33.7   , 36.4   , 39.6   , 11.7612,  6.5736],\n",
       "       [ 6.    , 37.3   , 40.    , 43.5   , 12.354 ,  6.525 ],\n",
       "       [ 1.    , 13.5   , 14.7   , 16.5   ,  6.8475,  2.3265],\n",
       "       [ 1.    , 14.3   , 15.5   , 17.4   ,  6.5772,  2.3142],\n",
       "       [ 1.    , 16.3   , 17.7   , 19.8   ,  7.4052,  2.673 ],\n",
       "       [ 1.    , 17.5   , 19.    , 21.3   ,  8.3922,  2.9181],\n",
       "       [ 1.    , 18.4   , 20.    , 22.4   ,  8.8928,  3.2928],\n",
       "       [ 1.    , 19.    , 20.7   , 23.2   ,  8.5376,  3.2944],\n",
       "       [ 1.    , 19.    , 20.7   , 23.2   ,  9.396 ,  3.4104],\n",
       "       [ 1.    , 19.8   , 21.5   , 24.1   ,  9.7364,  3.1571],\n",
       "       [ 1.    , 21.2   , 23.    , 25.8   , 10.3458,  3.6636],\n",
       "       [ 1.    , 23.    , 25.    , 28.    , 11.088 ,  4.144 ],\n",
       "       [ 1.    , 24.    , 26.    , 29.    , 11.368 ,  4.234 ],\n",
       "       [ 2.    ,  7.5   ,  8.4   ,  8.8   ,  2.112 ,  1.408 ],\n",
       "       [ 2.    , 12.5   , 13.7   , 14.7   ,  3.528 ,  1.9992],\n",
       "       [ 2.    , 13.8   , 15.    , 16.    ,  3.824 ,  2.432 ],\n",
       "       [ 2.    , 15.    , 16.2   , 17.2   ,  4.5924,  2.6316],\n",
       "       [ 2.    , 15.7   , 17.4   , 18.5   ,  4.588 ,  2.9415],\n",
       "       [ 2.    , 16.2   , 18.    , 19.2   ,  5.2224,  3.3216],\n",
       "       [ 2.    , 16.8   , 18.7   , 19.4   ,  5.1992,  3.1234],\n",
       "       [ 2.    , 17.2   , 19.    , 20.2   ,  5.6358,  3.0502],\n",
       "       [ 2.    , 17.8   , 19.6   , 20.8   ,  5.1376,  3.0368],\n",
       "       [ 2.    , 18.2   , 20.    , 21.    ,  5.082 ,  2.772 ],\n",
       "       [ 2.    , 19.    , 21.    , 22.5   ,  5.6925,  3.555 ],\n",
       "       [ 2.    , 19.    , 21.    , 22.5   ,  5.9175,  3.3075],\n",
       "       [ 2.    , 19.    , 21.    , 22.5   ,  5.6925,  3.6675],\n",
       "       [ 2.    , 19.3   , 21.3   , 22.8   ,  6.384 ,  3.534 ],\n",
       "       [ 2.    , 20.    , 22.    , 23.5   ,  6.11  ,  3.4075],\n",
       "       [ 2.    , 20.    , 22.    , 23.5   ,  5.64  ,  3.525 ],\n",
       "       [ 2.    , 20.    , 22.    , 23.5   ,  6.11  ,  3.525 ],\n",
       "       [ 2.    , 20.    , 22.    , 23.5   ,  5.875 ,  3.525 ],\n",
       "       [ 2.    , 20.    , 22.    , 23.5   ,  5.5225,  3.995 ],\n",
       "       [ 2.    , 20.5   , 22.5   , 24.    ,  5.856 ,  3.624 ],\n",
       "       [ 2.    , 20.5   , 22.5   , 24.    ,  6.792 ,  3.624 ],\n",
       "       [ 2.    , 20.7   , 22.7   , 24.2   ,  5.9532,  3.63  ],\n",
       "       [ 2.    , 21.    , 23.    , 24.5   ,  5.2185,  3.626 ],\n",
       "       [ 2.    , 21.5   , 23.5   , 25.    ,  6.275 ,  3.725 ],\n",
       "       [ 2.    , 22.    , 24.    , 25.5   ,  7.293 ,  3.723 ],\n",
       "       [ 2.    , 22.    , 24.    , 25.5   ,  6.375 ,  3.825 ],\n",
       "       [ 2.    , 22.6   , 24.6   , 26.2   ,  6.7334,  4.1658],\n",
       "       [ 2.    , 23.    , 25.    , 26.5   ,  6.4395,  3.6835],\n",
       "       [ 2.    , 23.5   , 25.6   , 27.    ,  6.561 ,  4.239 ],\n",
       "       [ 2.    , 25.    , 26.5   , 28.    ,  7.168 ,  4.144 ],\n",
       "       [ 2.    , 25.2   , 27.3   , 28.7   ,  8.323 ,  5.1373],\n",
       "       [ 2.    , 25.4   , 27.5   , 28.9   ,  7.1672,  4.335 ],\n",
       "       [ 2.    , 25.4   , 27.5   , 28.9   ,  7.0516,  4.335 ],\n",
       "       [ 2.    , 25.4   , 27.5   , 28.9   ,  7.2828,  4.5662],\n",
       "       [ 2.    , 25.9   , 28.    , 29.4   ,  7.8204,  4.2042],\n",
       "       [ 2.    , 26.9   , 28.7   , 30.1   ,  7.5852,  4.6354],\n",
       "       [ 2.    , 27.8   , 30.    , 31.6   ,  7.6156,  4.7716],\n",
       "       [ 2.    , 30.5   , 32.8   , 34.    , 10.03  ,  6.018 ],\n",
       "       [ 2.    , 32.    , 34.5   , 36.5   , 10.2565,  6.3875],\n",
       "       [ 2.    , 32.5   , 35.    , 37.3   , 11.4884,  7.7957],\n",
       "       [ 2.    , 34.    , 36.5   , 39.    , 10.881 ,  6.864 ],\n",
       "       [ 2.    , 34.    , 36.    , 38.3   , 10.6091,  6.7408],\n",
       "       [ 2.    , 34.5   , 37.    , 39.4   , 10.835 ,  6.2646],\n",
       "       [ 2.    , 34.6   , 37.    , 39.3   , 10.5717,  6.3666],\n",
       "       [ 2.    , 36.5   , 39.    , 41.4   , 11.1366,  7.4934],\n",
       "       [ 2.    , 36.5   , 39.    , 41.4   , 11.1366,  6.003 ],\n",
       "       [ 2.    , 36.6   , 39.    , 41.3   , 12.4313,  7.3514],\n",
       "       [ 2.    , 36.9   , 40.    , 42.3   , 11.9286,  7.1064],\n",
       "       [ 2.    , 37.    , 40.    , 42.5   , 11.73  ,  7.225 ],\n",
       "       [ 2.    , 37.    , 40.    , 42.4   , 12.3808,  7.4624],\n",
       "       [ 2.    , 37.1   , 40.    , 42.5   , 11.135 ,  6.63  ],\n",
       "       [ 2.    , 39.    , 42.    , 44.6   , 12.8002,  6.8684],\n",
       "       [ 2.    , 39.8   , 43.    , 45.2   , 11.9328,  7.2772],\n",
       "       [ 2.    , 40.1   , 43.    , 45.5   , 12.5125,  7.4165],\n",
       "       [ 2.    , 40.2   , 43.5   , 46.    , 12.604 ,  8.142 ],\n",
       "       [ 2.    , 41.1   , 44.    , 46.6   , 12.4888,  7.5958],\n",
       "       [ 3.    , 30.    , 32.3   , 34.8   ,  5.568 ,  3.3756],\n",
       "       [ 3.    , 31.7   , 34.    , 37.8   ,  5.7078,  4.158 ],\n",
       "       [ 3.    , 32.7   , 35.    , 38.8   ,  5.9364,  4.3844],\n",
       "       [ 3.    , 34.8   , 37.3   , 39.8   ,  6.2884,  4.0198],\n",
       "       [ 3.    , 35.5   , 38.    , 40.5   ,  7.29  ,  4.5765],\n",
       "       [ 3.    , 36.    , 38.5   , 41.    ,  6.396 ,  3.977 ],\n",
       "       [ 3.    , 40.    , 42.5   , 45.5   ,  7.28  ,  4.3225],\n",
       "       [ 3.    , 40.    , 42.5   , 45.5   ,  6.825 ,  4.459 ],\n",
       "       [ 3.    , 40.1   , 43.    , 45.8   ,  7.786 ,  5.1296],\n",
       "       [ 3.    , 42.    , 45.    , 48.    ,  6.96  ,  4.896 ],\n",
       "       [ 3.    , 43.2   , 46.    , 48.7   ,  7.792 ,  4.87  ],\n",
       "       [ 3.    , 44.8   , 48.    , 51.2   ,  7.68  ,  5.376 ],\n",
       "       [ 3.    , 48.3   , 51.7   , 55.1   ,  8.9262,  6.1712],\n",
       "       [ 3.    , 52.    , 56.    , 59.7   , 10.6863,  6.9849],\n",
       "       [ 5.    ,  9.3   ,  9.8   , 10.8   ,  1.7388,  1.0476],\n",
       "       [ 5.    , 10.    , 10.5   , 11.6   ,  1.972 ,  1.16  ],\n",
       "       [ 5.    , 10.1   , 10.6   , 11.6   ,  1.7284,  1.1484],\n",
       "       [ 5.    , 10.4   , 11.    , 12.    ,  2.196 ,  1.38  ],\n",
       "       [ 5.    , 10.7   , 11.2   , 12.4   ,  2.0832,  1.2772],\n",
       "       [ 5.    , 10.8   , 11.3   , 12.6   ,  1.9782,  1.2852],\n",
       "       [ 5.    , 11.3   , 11.8   , 13.1   ,  2.2139,  1.2838],\n",
       "       [ 5.    , 11.3   , 11.8   , 13.1   ,  2.2139,  1.1659],\n",
       "       [ 5.    , 11.4   , 12.    , 13.2   ,  2.2044,  1.1484],\n",
       "       [ 5.    , 11.5   , 12.2   , 13.4   ,  2.0904,  1.3936],\n",
       "       [ 5.    , 11.7   , 12.4   , 13.5   ,  2.43  ,  1.269 ],\n",
       "       [ 5.    , 12.1   , 13.    , 13.8   ,  2.277 ,  1.2558],\n",
       "       [ 5.    , 13.2   , 14.3   , 15.2   ,  2.8728,  2.0672],\n",
       "       [ 5.    , 13.8   , 15.    , 16.2   ,  2.9322,  1.8792]])"
      ]
     },
     "execution_count": 77,
     "metadata": {},
     "output_type": "execute_result"
    }
   ],
   "source": [
    "x"
   ]
  },
  {
   "cell_type": "code",
   "execution_count": 78,
   "metadata": {},
   "outputs": [
    {
     "data": {
      "text/plain": [
       "array([ 242. ,  290. ,  340. ,  363. ,  430. ,  450. ,  500. ,  390. ,\n",
       "        450. ,  500. ,  475. ,  500. ,  500. ,  340. ,  600. ,  600. ,\n",
       "        700. ,  700. ,  610. ,  650. ,  575. ,  685. ,  620. ,  680. ,\n",
       "        700. ,  725. ,  720. ,  714. ,  850. , 1000. ,  920. ,  955. ,\n",
       "        925. ,  975. ,  950. ,   40. ,   69. ,   78. ,   87. ,  120. ,\n",
       "          0. ,  110. ,  120. ,  150. ,  145. ,  160. ,  140. ,  160. ,\n",
       "        169. ,  161. ,  200. ,  180. ,  290. ,  272. ,  390. ,  270. ,\n",
       "        270. ,  306. ,  540. ,  800. , 1000. ,   55. ,   60. ,   90. ,\n",
       "        120. ,  150. ,  140. ,  170. ,  145. ,  200. ,  273. ,  300. ,\n",
       "          5.9,   32. ,   40. ,   51.5,   70. ,  100. ,   78. ,   80. ,\n",
       "         85. ,   85. ,  110. ,  115. ,  125. ,  130. ,  120. ,  120. ,\n",
       "        130. ,  135. ,  110. ,  130. ,  150. ,  145. ,  150. ,  170. ,\n",
       "        225. ,  145. ,  188. ,  180. ,  197. ,  218. ,  300. ,  260. ,\n",
       "        265. ,  250. ,  250. ,  300. ,  320. ,  514. ,  556. ,  840. ,\n",
       "        685. ,  700. ,  700. ,  690. ,  900. ,  650. ,  820. ,  850. ,\n",
       "        900. , 1015. ,  820. , 1100. , 1000. , 1100. , 1000. , 1000. ,\n",
       "        200. ,  300. ,  300. ,  300. ,  430. ,  345. ,  456. ,  510. ,\n",
       "        540. ,  500. ,  567. ,  770. ,  950. , 1250. ,    6.7,    7.5,\n",
       "          7. ,    9.7,    9.8,    8.7,   10. ,    9.9,    9.8,   12.2,\n",
       "         13.4,   12.2,   19.7,   19.9])"
      ]
     },
     "execution_count": 78,
     "metadata": {},
     "output_type": "execute_result"
    }
   ],
   "source": [
    "y"
   ]
  },
  {
   "cell_type": "code",
   "execution_count": 79,
   "metadata": {},
   "outputs": [],
   "source": [
    "from sklearn.model_selection import train_test_split"
   ]
  },
  {
   "cell_type": "code",
   "execution_count": 80,
   "metadata": {},
   "outputs": [],
   "source": [
    "x_train , x_test ,y_train ,y_test=train_test_split(x,y,test_size=0.25,random_state=0)"
   ]
  },
  {
   "cell_type": "code",
   "execution_count": 81,
   "metadata": {},
   "outputs": [],
   "source": [
    "from sklearn.linear_model import LinearRegression"
   ]
  },
  {
   "cell_type": "code",
   "execution_count": 82,
   "metadata": {},
   "outputs": [],
   "source": [
    "regressor=LinearRegression()"
   ]
  },
  {
   "cell_type": "code",
   "execution_count": 83,
   "metadata": {},
   "outputs": [
    {
     "data": {
      "text/plain": [
       "LinearRegression(copy_X=True, fit_intercept=True, n_jobs=None, normalize=False)"
      ]
     },
     "execution_count": 83,
     "metadata": {},
     "output_type": "execute_result"
    }
   ],
   "source": [
    "regressor.fit(x_train,y_train)"
   ]
  },
  {
   "cell_type": "code",
   "execution_count": 84,
   "metadata": {},
   "outputs": [
    {
     "data": {
      "text/plain": [
       "0.915053474158038"
      ]
     },
     "execution_count": 84,
     "metadata": {},
     "output_type": "execute_result"
    }
   ],
   "source": [
    "regressor.score(x_train,y_train)"
   ]
  },
  {
   "cell_type": "code",
   "execution_count": 85,
   "metadata": {},
   "outputs": [
    {
     "data": {
      "text/plain": [
       "0.9063763829723153"
      ]
     },
     "execution_count": 85,
     "metadata": {},
     "output_type": "execute_result"
    }
   ],
   "source": [
    "regressor.score(x_test,y_test)"
   ]
  },
  {
   "cell_type": "code",
   "execution_count": null,
   "metadata": {},
   "outputs": [],
   "source": []
  }
 ],
 "metadata": {
  "kernelspec": {
   "display_name": "Python 3",
   "language": "python",
   "name": "python3"
  },
  "language_info": {
   "codemirror_mode": {
    "name": "ipython",
    "version": 3
   },
   "file_extension": ".py",
   "mimetype": "text/x-python",
   "name": "python",
   "nbconvert_exporter": "python",
   "pygments_lexer": "ipython3",
   "version": "3.7.4"
  }
 },
 "nbformat": 4,
 "nbformat_minor": 2
}
